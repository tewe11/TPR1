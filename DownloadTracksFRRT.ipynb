{
 "cells": [
  {
   "cell_type": "code",
   "execution_count": 1,
   "metadata": {},
   "outputs": [],
   "source": [
    "import requests\n",
    "import json\n",
    "import os\n",
    "from datetime import datetime"
   ]
  },
  {
   "cell_type": "markdown",
   "metadata": {},
   "source": [
    "Create directories for the new GPX files"
   ]
  },
  {
   "cell_type": "code",
   "execution_count": 2,
   "metadata": {},
   "outputs": [],
   "source": [
    "dirout = str(datetime.now().date())\n",
    "if not os.path.exists(dirout):\n",
    "    os.mkdir(dirout)    \n",
    "if not os.path.exists(dirout+'/Tracks'):\n",
    "    os.mkdir(dirout+'/Tracks')    \n",
    "if not os.path.exists(dirout+'/Routes'):\n",
    "    os.mkdir(dirout+'/Routes')     "
   ]
  },
  {
   "cell_type": "markdown",
   "metadata": {},
   "source": [
    "On FRRT there is a nice list with the riders"
   ]
  },
  {
   "cell_type": "code",
   "execution_count": 3,
   "metadata": {},
   "outputs": [],
   "source": [
    "riders = requests.get('https://frrt.org/tprno1/data/riders').json()"
   ]
  },
  {
   "cell_type": "markdown",
   "metadata": {},
   "source": [
    "This is how the entry for a rider looks like"
   ]
  },
  {
   "cell_type": "code",
   "execution_count": 8,
   "metadata": {},
   "outputs": [
    {
     "data": {
      "text/plain": [
       "{'count': 104,\n",
       " 'cl': 'Rider',\n",
       " 'name': 'Thomas Jacquelinet',\n",
       " 'number': '54',\n",
       " 'slug': '54-thomas',\n",
       " 'phase': 10,\n",
       " 'sex': 'M',\n",
       " 'status': 'F',\n",
       " 'dtnc': '4',\n",
       " 'dtf': '0',\n",
       " 'comment': None,\n",
       " 'tdist': '1227',\n",
       " 'rdist': '1572',\n",
       " 'climb': '40862',\n",
       " 'p': [-1.53946, 43.4616],\n",
       " 'p_ts': 1570531838.0,\n",
       " 'nc': 'Biarritz',\n",
       " 'rank': '1st',\n",
       " 'moving': 86.9769444444447,\n",
       " 'dur': 103.84388888888888,\n",
       " 'age': 165145}"
      ]
     },
     "execution_count": 8,
     "metadata": {},
     "output_type": "execute_result"
    }
   ],
   "source": [
    "riders['data'][0]"
   ]
  },
  {
   "cell_type": "code",
   "execution_count": 4,
   "metadata": {},
   "outputs": [],
   "source": [
    "with open('./'+dirout+'/riders.json', 'w') as f:\n",
    "    json.dump(riders,f)"
   ]
  },
  {
   "cell_type": "code",
   "execution_count": 5,
   "metadata": {},
   "outputs": [],
   "source": [
    "url = \"https://frrt.org/tprno1/data/riders/{}/track.gpx\"\n",
    "for rider in riders['data']:\n",
    "    r = requests.get(url.format(rider['slug']))\n",
    "    with open('./'+dirout+'/Tracks/{}.gpx'.format(rider['slug']), 'w') as f:\n",
    "        f.write(r.text)"
   ]
  },
  {
   "cell_type": "code",
   "execution_count": 6,
   "metadata": {},
   "outputs": [],
   "source": [
    "url = \"https://frrt.org/tprno1/data/riders/{}/route.gpx\"\n",
    "for rider in riders['data']:\n",
    "    r = requests.get(url.format(rider['slug']))\n",
    "    with open('./'+dirout+'/Routes/{}.gpx'.format(rider['slug']), 'w') as f:\n",
    "        f.write(r.text)"
   ]
  }
 ],
 "metadata": {
  "kernelspec": {
   "display_name": "Python 3",
   "language": "python",
   "name": "python3"
  },
  "language_info": {
   "codemirror_mode": {
    "name": "ipython",
    "version": 3
   },
   "file_extension": ".py",
   "mimetype": "text/x-python",
   "name": "python",
   "nbconvert_exporter": "python",
   "pygments_lexer": "ipython3",
   "version": "3.7.4"
  }
 },
 "nbformat": 4,
 "nbformat_minor": 2
}
